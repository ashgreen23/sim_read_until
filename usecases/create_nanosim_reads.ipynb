{
 "cells": [
  {
   "cell_type": "markdown",
   "metadata": {},
   "source": [
    "## Generate reads from the reference\n",
    "\n",
    "We generate reads with NanoSim.\n",
    "We first extract the NanoSim read error model to some directory. This is only necessary once."
   ]
  },
  {
   "cell_type": "code",
   "execution_count": 8,
   "metadata": {},
   "outputs": [
    {
     "name": "stdout",
     "output_type": "stream",
     "text": [
      "The autoreload extension is already loaded. To reload it, use:\n",
      "  %reload_ext autoreload\n"
     ]
    }
   ],
   "source": [
    "%load_ext autoreload\n",
    "%autoreload 2\n",
    "\n",
    "import logging\n",
    "from pathlib import Path\n",
    "\n",
    "from simreaduntil.shared_utils.logging_utils import add_comprehensive_stream_handler_to_logger\n",
    "add_comprehensive_stream_handler_to_logger(None, level=logging.INFO)\n"
   ]
  },
  {
   "cell_type": "code",
   "execution_count": 2,
   "metadata": {},
   "outputs": [],
   "source": [
    "n_procs = 4\n",
    "perfect = True\n",
    "use_slurm = True\n",
    "on_cluster = False\n",
    "nanosim_dir = Path(\"external/ont_nanosim/\")\n",
    "nanosim_model_dir = Path(\"runs/nanosim_models\")\n",
    "nanosim_model_prefix = nanosim_model_dir / \"human_NA12878_DNA_FAB49712_guppy/training\"\n",
    "reads_output_dir = \"runs/enrich_usecase/nanosim_reads\"\n",
    "ref_genome_path = \"runs/enrich_usecase/data/chm13v2.0_normalized1000000firsttwo.fa.gz\"\n",
    "\n",
    "assert nanosim_dir.exists(), \"move to the repo root repository\""
   ]
  },
  {
   "cell_type": "code",
   "execution_count": 3,
   "metadata": {},
   "outputs": [
    {
     "name": "stdout",
     "output_type": "stream",
     "text": [
      "x human_NA12878_DNA_FAB49712_guppy/\n",
      "x human_NA12878_DNA_FAB49712_guppy/training_unaligned_length.pkl\n",
      "x human_NA12878_DNA_FAB49712_guppy/training_reads_alignment_rate\n",
      "x human_NA12878_DNA_FAB49712_guppy/training_model_profile\n",
      "x human_NA12878_DNA_FAB49712_guppy/training_aligned_region.pkl\n",
      "x human_NA12878_DNA_FAB49712_guppy/training_first_match.hist\n",
      "x human_NA12878_DNA_FAB49712_guppy/training_strandness_rate\n",
      "x human_NA12878_DNA_FAB49712_guppy/training_gap_length.pkl\n",
      "x human_NA12878_DNA_FAB49712_guppy/training_error_markov_model\n",
      "x human_NA12878_DNA_FAB49712_guppy/training_aligned_reads.pkl\n",
      "x human_NA12878_DNA_FAB49712_guppy/training_chimeric_info\n",
      "x human_NA12878_DNA_FAB49712_guppy/training_ht_ratio.pkl\n",
      "x human_NA12878_DNA_FAB49712_guppy/training_match_markov_model\n",
      "x human_NA12878_DNA_FAB49712_guppy/training_ht_length.pkl\n",
      "x human_NA12878_DNA_FAB49712_guppy/training_error_rate.tsv\n"
     ]
    }
   ],
   "source": [
    "# only necessary once\n",
    "!mkdir runs/nanosim_models\n",
    "!tar -xvzf external/ont_nanosim/pre-trained_models/human_NA12878_DNA_FAB49712_guppy.tar.gz -C \"{nanosim_model_dir}\""
   ]
  },
  {
   "cell_type": "code",
   "execution_count": 11,
   "metadata": {},
   "outputs": [
    {
     "name": "stderr",
     "output_type": "stream",
     "text": [
      "2023-07-27 20:20:19,776 - Dry run, so not executing the command:\n",
      "#!/usr/bin/bash\n",
      "seed=1\n",
      "conda run -n nanosim python -c \"import HTSeq; print(HTSeq.__version__)\"\n",
      "\n",
      "# cd <correct_dir>\n",
      "conda run -n nanosim \\\n",
      "    python \"external/ont_nanosim/src/simulator.py\" genome \\\n",
      "    --model_prefix \"runs/nanosim_models/human_NA12878_DNA_FAB49712_guppy/training\" \\\n",
      "    --ref_g \"runs/enrich_usecase/data/chm13v2.0_normalized1000000firsttwo.fa.gz\" \\\n",
      "    -dna_type linear \\\n",
      "    --output \"runs/enrich_usecase/nanosim_reads/perfect_reads_seed$seed\" \\\n",
      "    --number 10 \\\n",
      "    --seed \"$seed\" \\\n",
      "    --strandness 0.5 \\\n",
      "    --basecaller guppy \\\n",
      "    --aligned_rate \"100%\" \\\n",
      "    --num_threads \"4\" \\\n",
      "    --perfect \\\n",
      "    --no_error_profile \\\n",
      "    --no_flanking\n",
      "    #; exit --- 999482901.py:12 (<module>) WARNING ##\n"
     ]
    }
   ],
   "source": [
    "from simreaduntil.shared_utils.utils import print_cmd_and_run\n",
    "from simreaduntil.usecase_helpers.utils import get_gen_nanosim_reads_cmd\n",
    "\n",
    "if on_cluster:\n",
    "    n_reads_per_sim = 1_000_000\n",
    "else:    \n",
    "    # n_reads_per_sim = 160_000\n",
    "    n_reads_per_sim = 10\n",
    "    use_slurm = False\n",
    "    \n",
    "nanosim_command = get_gen_nanosim_reads_cmd(nanosim_dir, nanosim_model_prefix, ref_genome_path, reads_dir=reads_output_dir, n_reads_per_sim=n_reads_per_sim, perfect=perfect, use_slurm=use_slurm)\n",
    "print_cmd_and_run(nanosim_command, dry=True)\n",
    "# print_cmd_and_run(nanosim_command, dry=False) # todo2: only working in the command line, not in the notebook for some reason"
   ]
  },
  {
   "cell_type": "markdown",
   "metadata": {},
   "source": [
    "**Paste this command into the terminal to run it.**"
   ]
  },
  {
   "cell_type": "markdown",
   "metadata": {},
   "source": [
    "You need to modify the simulator config file to take the reads as input by adding a line `reads_file = <path>`"
   ]
  },
  {
   "cell_type": "markdown",
   "metadata": {},
   "source": []
  }
 ],
 "metadata": {
  "kernelspec": {
   "display_name": "ont_project_venv",
   "language": "python",
   "name": "python3"
  },
  "language_info": {
   "codemirror_mode": {
    "name": "ipython",
    "version": 3
   },
   "file_extension": ".py",
   "mimetype": "text/x-python",
   "name": "python",
   "nbconvert_exporter": "python",
   "pygments_lexer": "ipython3",
   "version": "3.10.12"
  },
  "orig_nbformat": 4
 },
 "nbformat": 4,
 "nbformat_minor": 2
}
